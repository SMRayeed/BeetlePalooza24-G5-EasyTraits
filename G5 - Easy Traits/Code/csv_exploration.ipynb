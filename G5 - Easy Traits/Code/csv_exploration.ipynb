{
 "cells": [
  {
   "cell_type": "code",
   "execution_count": 1,
   "id": "0aca4555-41a0-4199-b77d-d833d4785bcc",
   "metadata": {},
   "outputs": [],
   "source": [
    "import os\n",
    "from pathlib import Path"
   ]
  },
  {
   "cell_type": "code",
   "execution_count": 3,
   "id": "34302182-2899-49e9-878a-91d930efcccf",
   "metadata": {},
   "outputs": [
    {
     "data": {
      "text/plain": [
       "['background_segmentation',\n",
       " 'elythra_segmentation',\n",
       " 'seg_results.csv',\n",
       " 'Rotated_Elythra',\n",
       " 'elythra.png',\n",
       " '.ipynb_checkpoints',\n",
       " 'BeetleMeasurements.csv']"
      ]
     },
     "execution_count": 3,
     "metadata": {},
     "output_type": "execute_result"
    }
   ],
   "source": [
    "data = Path(\"data/\")\n",
    "os.listdir(data)"
   ]
  },
  {
   "cell_type": "code",
   "execution_count": 4,
   "id": "c4fc83fd-126c-497f-9c10-6aa96927fbc1",
   "metadata": {},
   "outputs": [],
   "source": [
    "orig_csv_path = data/\"BeetleMeasurements.csv\""
   ]
  },
  {
   "cell_type": "code",
   "execution_count": 5,
   "id": "affbb618-f704-4001-85d6-acf4fd77d188",
   "metadata": {},
   "outputs": [
    {
     "data": {
      "text/plain": [
       "39064"
      ]
     },
     "execution_count": 5,
     "metadata": {},
     "output_type": "execute_result"
    }
   ],
   "source": [
    "import pandas as pd\n",
    "df = pd.read_csv(orig_csv_path)\n",
    "len(df)"
   ]
  },
  {
   "cell_type": "code",
   "execution_count": 8,
   "id": "91cf09bc-437e-4439-a957-f1927cc157c6",
   "metadata": {},
   "outputs": [
    {
     "data": {
      "text/html": [
       "<div>\n",
       "<style scoped>\n",
       "    .dataframe tbody tr th:only-of-type {\n",
       "        vertical-align: middle;\n",
       "    }\n",
       "\n",
       "    .dataframe tbody tr th {\n",
       "        vertical-align: top;\n",
       "    }\n",
       "\n",
       "    .dataframe thead th {\n",
       "        text-align: right;\n",
       "    }\n",
       "</style>\n",
       "<table border=\"1\" class=\"dataframe\">\n",
       "  <thead>\n",
       "    <tr style=\"text-align: right;\">\n",
       "      <th></th>\n",
       "      <th>pictureID</th>\n",
       "      <th>scalebar</th>\n",
       "      <th>cm_pix</th>\n",
       "      <th>individual</th>\n",
       "      <th>structure</th>\n",
       "      <th>lying_flat</th>\n",
       "      <th>coords_pix</th>\n",
       "      <th>dist_pix</th>\n",
       "      <th>dist_cm</th>\n",
       "      <th>scientificName</th>\n",
       "      <th>...</th>\n",
       "      <th>user_name</th>\n",
       "      <th>workflowID</th>\n",
       "      <th>genus</th>\n",
       "      <th>species</th>\n",
       "      <th>combinedID</th>\n",
       "      <th>measureID</th>\n",
       "      <th>file_name</th>\n",
       "      <th>image_dim</th>\n",
       "      <th>resized_image_dim</th>\n",
       "      <th>coords_pix_scaled_up</th>\n",
       "    </tr>\n",
       "  </thead>\n",
       "  <tbody>\n",
       "    <tr>\n",
       "      <th>0</th>\n",
       "      <td>A00000032929.jpg</td>\n",
       "      <td>{\"x1\": 815, \"y1\": 244, \"x2\": 892, \"y2\": 244}</td>\n",
       "      <td>77.0</td>\n",
       "      <td>1</td>\n",
       "      <td>ElytraLength</td>\n",
       "      <td>Yes</td>\n",
       "      <td>{\"x1\": 1055, \"y1\": 154, \"x2\": 1163, \"y2\": 149}</td>\n",
       "      <td>108.115679</td>\n",
       "      <td>1.404100</td>\n",
       "      <td>Carabus goryi</td>\n",
       "      <td>...</td>\n",
       "      <td>IsaFluck</td>\n",
       "      <td>21652</td>\n",
       "      <td>Carabus</td>\n",
       "      <td>goryi</td>\n",
       "      <td>A00000032929_1</td>\n",
       "      <td>581c1309-6b06-4445-9ed5-55ebe366f6ed</td>\n",
       "      <td>group_images/A00000032929.jpg</td>\n",
       "      <td>(3712, 5568, 3)</td>\n",
       "      <td>(1299, 1949, 3)</td>\n",
       "      <td>{'x1': 3014, 'y1': 439, 'x2': 3323, 'y2': 425}</td>\n",
       "    </tr>\n",
       "    <tr>\n",
       "      <th>1</th>\n",
       "      <td>A00000032929.jpg</td>\n",
       "      <td>{\"x1\": 815, \"y1\": 244, \"x2\": 892, \"y2\": 244}</td>\n",
       "      <td>77.0</td>\n",
       "      <td>1</td>\n",
       "      <td>ElytraWidth</td>\n",
       "      <td>Yes</td>\n",
       "      <td>{\"x1\": 1053, \"y1\": 129, \"x2\": 1057, \"y2\": 179}</td>\n",
       "      <td>50.159745</td>\n",
       "      <td>0.651425</td>\n",
       "      <td>Carabus goryi</td>\n",
       "      <td>...</td>\n",
       "      <td>IsaFluck</td>\n",
       "      <td>21652</td>\n",
       "      <td>Carabus</td>\n",
       "      <td>goryi</td>\n",
       "      <td>A00000032929_1</td>\n",
       "      <td>464836fd-853e-40d5-861c-8c279aec6a55</td>\n",
       "      <td>group_images/A00000032929.jpg</td>\n",
       "      <td>(3712, 5568, 3)</td>\n",
       "      <td>(1299, 1949, 3)</td>\n",
       "      <td>{'x1': 3009, 'y1': 368, 'x2': 3020, 'y2': 511}</td>\n",
       "    </tr>\n",
       "    <tr>\n",
       "      <th>2</th>\n",
       "      <td>A00000032929.jpg</td>\n",
       "      <td>{\"x1\": 815, \"y1\": 244, \"x2\": 892, \"y2\": 244}</td>\n",
       "      <td>77.0</td>\n",
       "      <td>2</td>\n",
       "      <td>ElytraLength</td>\n",
       "      <td>Yes</td>\n",
       "      <td>{\"x1\": 1390, \"y1\": 150, \"x2\": 1314, \"y2\": 241}</td>\n",
       "      <td>118.562220</td>\n",
       "      <td>1.539769</td>\n",
       "      <td>Carabus goryi</td>\n",
       "      <td>...</td>\n",
       "      <td>IsaFluck</td>\n",
       "      <td>21652</td>\n",
       "      <td>Carabus</td>\n",
       "      <td>goryi</td>\n",
       "      <td>A00000032929_2</td>\n",
       "      <td>80d48e56-c274-4ca9-854e-07605a62e140</td>\n",
       "      <td>group_images/A00000032929.jpg</td>\n",
       "      <td>(3712, 5568, 3)</td>\n",
       "      <td>(1299, 1949, 3)</td>\n",
       "      <td>{'x1': 3972, 'y1': 428, 'x2': 3754, 'y2': 688}</td>\n",
       "    </tr>\n",
       "  </tbody>\n",
       "</table>\n",
       "<p>3 rows × 24 columns</p>\n",
       "</div>"
      ],
      "text/plain": [
       "          pictureID                                      scalebar  cm_pix  \\\n",
       "0  A00000032929.jpg  {\"x1\": 815, \"y1\": 244, \"x2\": 892, \"y2\": 244}    77.0   \n",
       "1  A00000032929.jpg  {\"x1\": 815, \"y1\": 244, \"x2\": 892, \"y2\": 244}    77.0   \n",
       "2  A00000032929.jpg  {\"x1\": 815, \"y1\": 244, \"x2\": 892, \"y2\": 244}    77.0   \n",
       "\n",
       "   individual     structure lying_flat  \\\n",
       "0           1  ElytraLength        Yes   \n",
       "1           1   ElytraWidth        Yes   \n",
       "2           2  ElytraLength        Yes   \n",
       "\n",
       "                                       coords_pix    dist_pix   dist_cm  \\\n",
       "0  {\"x1\": 1055, \"y1\": 154, \"x2\": 1163, \"y2\": 149}  108.115679  1.404100   \n",
       "1  {\"x1\": 1053, \"y1\": 129, \"x2\": 1057, \"y2\": 179}   50.159745  0.651425   \n",
       "2  {\"x1\": 1390, \"y1\": 150, \"x2\": 1314, \"y2\": 241}  118.562220  1.539769   \n",
       "\n",
       "  scientificName  ... user_name workflowID    genus species      combinedID  \\\n",
       "0  Carabus goryi  ...  IsaFluck      21652  Carabus   goryi  A00000032929_1   \n",
       "1  Carabus goryi  ...  IsaFluck      21652  Carabus   goryi  A00000032929_1   \n",
       "2  Carabus goryi  ...  IsaFluck      21652  Carabus   goryi  A00000032929_2   \n",
       "\n",
       "                              measureID                      file_name  \\\n",
       "0  581c1309-6b06-4445-9ed5-55ebe366f6ed  group_images/A00000032929.jpg   \n",
       "1  464836fd-853e-40d5-861c-8c279aec6a55  group_images/A00000032929.jpg   \n",
       "2  80d48e56-c274-4ca9-854e-07605a62e140  group_images/A00000032929.jpg   \n",
       "\n",
       "         image_dim resized_image_dim  \\\n",
       "0  (3712, 5568, 3)   (1299, 1949, 3)   \n",
       "1  (3712, 5568, 3)   (1299, 1949, 3)   \n",
       "2  (3712, 5568, 3)   (1299, 1949, 3)   \n",
       "\n",
       "                             coords_pix_scaled_up  \n",
       "0  {'x1': 3014, 'y1': 439, 'x2': 3323, 'y2': 425}  \n",
       "1  {'x1': 3009, 'y1': 368, 'x2': 3020, 'y2': 511}  \n",
       "2  {'x1': 3972, 'y1': 428, 'x2': 3754, 'y2': 688}  \n",
       "\n",
       "[3 rows x 24 columns]"
      ]
     },
     "execution_count": 8,
     "metadata": {},
     "output_type": "execute_result"
    }
   ],
   "source": [
    "df.head(3)"
   ]
  },
  {
   "cell_type": "code",
   "execution_count": 12,
   "id": "87af50e8-ea25-4df4-ab97-7fae2006d745",
   "metadata": {},
   "outputs": [
    {
     "data": {
      "text/plain": [
       "['Carabus',\n",
       " 'Synuchus',\n",
       " 'Pterostichus',\n",
       " 'Cymindis',\n",
       " 'Agonum',\n",
       " 'Cyclotrachelus',\n",
       " 'Harpalus',\n",
       " 'Poecilus',\n",
       " 'Anisodactylus',\n",
       " 'Chlaenius',\n",
       " 'Dicaelus',\n",
       " 'Paraclivina',\n",
       " 'Pasimachus',\n",
       " 'Tetracha',\n",
       " 'Scaphinotus',\n",
       " 'Omus',\n",
       " 'Euryderus',\n",
       " 'Discoderus',\n",
       " 'Cratacanthus',\n",
       " 'Selenophorus',\n",
       " 'Axinopalpus',\n",
       " 'Syntomus',\n",
       " 'Tetragonoderus',\n",
       " 'Carabidae',\n",
       " 'Calosoma',\n",
       " nan,\n",
       " 'Cicindela',\n",
       " 'Amara',\n",
       " 'Calathus',\n",
       " 'Apristus',\n",
       " 'Loxandrus',\n",
       " 'Promecognathus',\n",
       " 'Bembidion',\n",
       " 'Sphaeroderus',\n",
       " 'Amphasia',\n",
       " 'Elaphropus',\n",
       " 'Scarites']"
      ]
     },
     "execution_count": 12,
     "metadata": {},
     "output_type": "execute_result"
    }
   ],
   "source": [
    "genus_list = df['genus'].unique().tolist()\n",
    "genus_list"
   ]
  }
 ],
 "metadata": {
  "kernelspec": {
   "display_name": "Python 3 (ipykernel)",
   "language": "python",
   "name": "python3"
  },
  "language_info": {
   "codemirror_mode": {
    "name": "ipython",
    "version": 3
   },
   "file_extension": ".py",
   "mimetype": "text/x-python",
   "name": "python",
   "nbconvert_exporter": "python",
   "pygments_lexer": "ipython3",
   "version": "3.11.9"
  }
 },
 "nbformat": 4,
 "nbformat_minor": 5
}
